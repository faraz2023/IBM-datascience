{
 "cells": [
  {
   "cell_type": "markdown",
   "metadata": {},
   "source": [
    "1.  Scientifics Computing:\n",
    "\n",
    "    + **Pandas** (Data structures and tools)\n",
    "    + **NumPy** (Arrays and Matrices)\n",
    "    + **SciPy** (Integrals, Differntial Equations, Optimizations)\n",
    "    \n",
    "2. Visualization:\n",
    "\n",
    "    + **Matplotlib** (plots, graphs, MOST POP)\n",
    "    + **Seaborn** (plots: heat maps, time series, violin plots)\n",
    "    \n",
    "3. Algorithmic:\n",
    "\n",
    "    + **Scikit-learn** (ML: regression, classification,...)\n",
    "    + **Statsmodels** (Explore data, estimate statistical models, and perform statistical tests)"
   ]
  }
 ],
 "metadata": {
  "kernelspec": {
   "display_name": "Python 3",
   "language": "python",
   "name": "python3"
  },
  "language_info": {
   "codemirror_mode": {
    "name": "ipython",
    "version": 3
   },
   "file_extension": ".py",
   "mimetype": "text/x-python",
   "name": "python",
   "nbconvert_exporter": "python",
   "pygments_lexer": "ipython3",
   "version": "3.7.3"
  }
 },
 "nbformat": 4,
 "nbformat_minor": 4
}
