{
 "cells": [
  {
   "cell_type": "markdown",
   "metadata": {},
   "source": [
    "## Data Formatting in Python"
   ]
  },
  {
   "cell_type": "markdown",
   "metadata": {},
   "source": [
    "How to deal with data that has different types and formats?\n",
    "We need to bring data into a common standard format. \n",
    "\n",
    "See how we can change \"mpg\" to \"L/100km\" in below code snnipet"
   ]
  },
  {
   "cell_type": "code",
   "execution_count": null,
   "metadata": {},
   "outputs": [],
   "source": [
    "df[\"city-mpg\"]= 235/df[\"city-mpg\"]\n",
    "\n",
    "# we can also change the column name:\n",
    "df.rename(columns={\"city_mpg\": \"city-L/100km\"}, inplace=True)\n",
    "\n",
    "# to identify data types:\n",
    "df.dtypes()\n",
    "\n",
    "#to convert data types:\n",
    "df[\"price\"] = df[\"price\"].astype(\"int\")"
   ]
  }
 ],
 "metadata": {
  "kernelspec": {
   "display_name": "Python 3",
   "language": "python",
   "name": "python3"
  },
  "language_info": {
   "codemirror_mode": {
    "name": "ipython",
    "version": 3
   },
   "file_extension": ".py",
   "mimetype": "text/x-python",
   "name": "python",
   "nbconvert_exporter": "python",
   "pygments_lexer": "ipython3",
   "version": "3.7.3"
  }
 },
 "nbformat": 4,
 "nbformat_minor": 4
}
