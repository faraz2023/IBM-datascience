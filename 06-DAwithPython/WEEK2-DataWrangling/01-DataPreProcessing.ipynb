{
 "cells": [
  {
   "cell_type": "markdown",
   "metadata": {},
   "source": [
    "COnverting data from **raw** to another **fromat**\n",
    "\n",
    "1. Identify and Handle Missing Values\n",
    "2. Data Formatting\n",
    "3. Data Normalization (Centering/Scaling)\n",
    "4. Data Binning\n",
    "5. Turning Categorical Values to Numerical Values"
   ]
  }
 ],
 "metadata": {
  "kernelspec": {
   "display_name": "Python 3",
   "language": "python",
   "name": "python3"
  },
  "language_info": {
   "codemirror_mode": {
    "name": "ipython",
    "version": 3
   },
   "file_extension": ".py",
   "mimetype": "text/x-python",
   "name": "python",
   "nbconvert_exporter": "python",
   "pygments_lexer": "ipython3",
   "version": "3.7.3"
  }
 },
 "nbformat": 4,
 "nbformat_minor": 4
}
