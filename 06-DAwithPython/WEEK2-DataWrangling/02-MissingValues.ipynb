{
 "cells": [
  {
   "cell_type": "markdown",
   "metadata": {},
   "source": [
    "Missing values are usually represented as \"?\", \"N/A\", 0, or just blank.\n",
    "\n",
    "#### How to deal with them?\n",
    "\n",
    "    + Can you collect the data again?\n",
    "    \n",
    "If no?\n",
    "\n",
    "**Drop the missing data**:\n",
    "\n",
    "    + Drop the variable?\n",
    "    + Drop just the data entry?\n",
    "    \n",
    "**Replace the missing values**:\n",
    "    \n",
    "    + Replaced it with an average (of similar datapoints) [does not work always. e.g. categorical data]\n",
    "    + Replace it by frequency\n",
    "    +Replace it based on other function\n",
    "    \n",
    "**Or Just leave it as missing data**\n",
    "\n",
    "***"
   ]
  },
  {
   "cell_type": "markdown",
   "metadata": {},
   "source": [
    "#### Removing Missing Value\n",
    "\n",
    "To remove missing value, *pandas* provide the method:\n",
    "    "
   ]
  },
  {
   "cell_type": "code",
   "execution_count": null,
   "metadata": {},
   "outputs": [],
   "source": [
    "dataframes.dropna(subset, axis, inplace = True)"
   ]
  },
  {
   "cell_type": "markdown",
   "metadata": {},
   "source": [
    "    \n",
    "    axis = 0 ==> drops the entire row\n",
    "    axis = 1 ==> drops the entire column\n",
    "    \n",
    "    inplace = True ==> The modifications directly imposed on the dataframe\n",
    "    \n",
    "Consider this:\n",
    "    ```dataframes.dropna(subset, axis)```\n",
    "    \n",
    "Because *inplace* is not mentioned, the dataframe itself is not changed\n",
    "\n",
    "***"
   ]
  },
  {
   "cell_type": "markdown",
   "metadata": {},
   "source": [
    "### Replacing Missing Values\n",
    "\n",
    "Use: ```dataframe.replace(missing_value, new_value)```\n",
    "\n",
    "Imagine if you want to replace a missing value with the mean value of the column:\n"
   ]
  },
  {
   "cell_type": "code",
   "execution_count": 1,
   "metadata": {},
   "outputs": [
    {
     "ename": "SyntaxError",
     "evalue": "EOL while scanning string literal (<ipython-input-1-8edb0e52f7fe>, line 2)",
     "output_type": "error",
     "traceback": [
      "\u001b[1;36m  File \u001b[1;32m\"<ipython-input-1-8edb0e52f7fe>\"\u001b[1;36m, line \u001b[1;32m2\u001b[0m\n\u001b[1;33m    df[\"normalized-losses].replace(np.nan, mean)\u001b[0m\n\u001b[1;37m                                                ^\u001b[0m\n\u001b[1;31mSyntaxError\u001b[0m\u001b[1;31m:\u001b[0m EOL while scanning string literal\n"
     ]
    }
   ],
   "source": [
    "mean = df[\"normalized-losses\"].mean()\n",
    "df[\"normalized-losses].replace(np.nan, mean)"
   ]
  }
 ],
 "metadata": {
  "kernelspec": {
   "display_name": "Python 3",
   "language": "python",
   "name": "python3"
  },
  "language_info": {
   "codemirror_mode": {
    "name": "ipython",
    "version": 3
   },
   "file_extension": ".py",
   "mimetype": "text/x-python",
   "name": "python",
   "nbconvert_exporter": "python",
   "pygments_lexer": "ipython3",
   "version": "3.7.3"
  }
 },
 "nbformat": 4,
 "nbformat_minor": 4
}
