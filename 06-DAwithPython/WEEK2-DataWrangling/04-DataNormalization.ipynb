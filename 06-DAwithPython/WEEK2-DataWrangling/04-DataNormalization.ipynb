{
 "cells": [
  {
   "cell_type": "markdown",
   "metadata": {},
   "source": [
    "## Data Normalization"
   ]
  },
  {
   "cell_type": "markdown",
   "metadata": {},
   "source": [
    "Normalize so the range of values are simillar. \n",
    "\n",
    "\n",
    "Two Methods:\n",
    "\n",
    "1. Simple Feature Scaling: \n",
    "        \n",
    "       X(new)= X(old) / X(max) \n",
    "       \n",
    "       \n",
    "2. Mix-Max\n",
    "\n",
    "    X(new) = [X(old) - X(min)] / [X(max) - X(min)]\n",
    "       \n",
    "       \n",
    "3. Z-score\n",
    "    ```df[\"length\"] = (df[\"length\"]-df[\"length\"].mean())/df[\"length\"].std() ```\n",
    "    \n",
    "    \n",
    "![](04-DataNormalization.JPG)\n",
    "\n"
   ]
  }
 ],
 "metadata": {
  "kernelspec": {
   "display_name": "Python 3",
   "language": "python",
   "name": "python3"
  },
  "language_info": {
   "codemirror_mode": {
    "name": "ipython",
    "version": 3
   },
   "file_extension": ".py",
   "mimetype": "text/x-python",
   "name": "python",
   "nbconvert_exporter": "python",
   "pygments_lexer": "ipython3",
   "version": "3.7.3"
  }
 },
 "nbformat": 4,
 "nbformat_minor": 4
}
