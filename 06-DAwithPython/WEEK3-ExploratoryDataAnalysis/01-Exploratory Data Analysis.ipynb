{
 "cells": [
  {
   "cell_type": "markdown",
   "metadata": {},
   "source": [
    "### Exploratory Data Analysis (EDA)\n",
    "\n",
    "+ Summraize main charactrsitics\n",
    "+ Gain bettetter undrestanding of the data set\n",
    "+ Uncover relationships between the variables\n",
    "+ Extract Important Variables\n",
    "\n",
    "\n",
    "##### Topics:\n",
    "\n",
    "\n",
    "\n",
    "    + Descriptive Statistics\n",
    "    + GroupBY\n",
    "    + ANOVA\n",
    "    + Correlation\n",
    "    + Advanced Correlation -Statistics\n"
   ]
  }
 ],
 "metadata": {
  "kernelspec": {
   "display_name": "Python 3",
   "language": "python",
   "name": "python3"
  },
  "language_info": {
   "codemirror_mode": {
    "name": "ipython",
    "version": 3
   },
   "file_extension": ".py",
   "mimetype": "text/x-python",
   "name": "python",
   "nbconvert_exporter": "python",
   "pygments_lexer": "ipython3",
   "version": "3.7.3"
  }
 },
 "nbformat": 4,
 "nbformat_minor": 4
}
