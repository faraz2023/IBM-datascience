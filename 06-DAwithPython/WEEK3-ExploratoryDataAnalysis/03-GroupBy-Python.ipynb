{
 "cells": [
  {
   "cell_type": "markdown",
   "metadata": {},
   "source": [
    "### GroupBy in Python"
   ]
  },
  {
   "cell_type": "markdown",
   "metadata": {},
   "source": [
    "### Basics of grouping:\n",
    "\n",
    "    + In python we use `dataframe.Groupby()` method\n",
    "        - Can be applied on categorical varibales\n",
    "        - Group data into categories\n",
    "        - Single or multiple variables"
   ]
  },
  {
   "cell_type": "code",
   "execution_count": null,
   "metadata": {},
   "outputs": [],
   "source": [
    "#Example\n",
    "df_test = df['drive-wheels', 'body-style', 'price']\n",
    "df_grp = df_test.groupby(['drive-wheels', 'body-style'], as_index=False).mean()\n",
    "\n",
    "#to turn the table into pivot table:\n",
    "df_pivot = df.pivot(index = 'drive-wheels', columns='body-style')\n",
    "\n",
    "#heatmap:\n",
    "plt.pcolor(df_pivot, cmap='RdBBu')\n",
    "plt.colorbar()\n",
    "plt.show()"
   ]
  },
  {
   "cell_type": "markdown",
   "metadata": {},
   "source": [
    "See the pic: \n",
    "\n",
    "![](03-GroupBy-Python.jpg)\n",
    "\n",
    "![](03-GroupBy-Python2.jpg)\n",
    "\n",
    "![](03-GroupBy-Python3.jpg)"
   ]
  }
 ],
 "metadata": {
  "kernelspec": {
   "display_name": "Python 3",
   "language": "python",
   "name": "python3"
  },
  "language_info": {
   "codemirror_mode": {
    "name": "ipython",
    "version": 3
   },
   "file_extension": ".py",
   "mimetype": "text/x-python",
   "name": "python",
   "nbconvert_exporter": "python",
   "pygments_lexer": "ipython3",
   "version": "3.7.3"
  }
 },
 "nbformat": 4,
 "nbformat_minor": 4
}
