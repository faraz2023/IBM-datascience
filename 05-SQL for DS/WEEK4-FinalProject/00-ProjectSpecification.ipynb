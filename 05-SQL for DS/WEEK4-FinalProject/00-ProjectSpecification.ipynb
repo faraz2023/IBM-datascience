{
 "cells": [
  {
   "cell_type": "markdown",
   "metadata": {},
   "source": [
    "\n",
    "\n",
    "Data:\n",
    "\n",
    "     - DOGS.CSV\n",
    "     \n",
    "Hints:\n",
    "\n",
    "    - Use \" \" to indicate mixed -case column names:\n",
    "    \n",
    "        `select \"id\" from DOGS`\n",
    "        \n",
    "    - To correct spacing:\n",
    "        `select \"ID\", \"name_of_dog\",\n",
    "            from dogs`\n",
    "            \n",
    "     \n",
    "     - Limiting the query result\n",
    "     \n",
    "        \n",
    "         `select * from census_data LIMIT 3`\n",
    "         -\n",
    "     \n",
    "     \n",
    "To get a list of tables in the data base:\n",
    "\n",
    "    `select TABSCHEMA, TABNAME, CREATE_TIME\n",
    "        from syscat.tables\n",
    "            where tabschema='ABC12345'`\n",
    "\n",
    "\n",
    "To get a list of columns:\n",
    "    \n",
    "       `select distinct(name), coltype, lenght\n",
    "       from sysibm.syscolumns\n",
    "       where tbname = \"DOGS\"`\n",
    " \n",
    "       \n",
    "       \n",
    "       "
   ]
  }
 ],
 "metadata": {
  "kernelspec": {
   "display_name": "Python 3",
   "language": "python",
   "name": "python3"
  },
  "language_info": {
   "codemirror_mode": {
    "name": "ipython",
    "version": 3
   },
   "file_extension": ".py",
   "mimetype": "text/x-python",
   "name": "python",
   "nbconvert_exporter": "python",
   "pygments_lexer": "ipython3",
   "version": "3.7.3"
  }
 },
 "nbformat": 4,
 "nbformat_minor": 4
}
