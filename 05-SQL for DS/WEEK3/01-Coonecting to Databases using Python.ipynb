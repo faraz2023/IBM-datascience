{
 "cells": [
  {
   "cell_type": "markdown",
   "metadata": {},
   "source": [
    "```cursor()```use example"
   ]
  },
  {
   "cell_type": "code",
   "execution_count": null,
   "metadata": {},
   "outputs": [],
   "source": [
    "from dbmodule import connect\n",
    "\n",
    "# creat connection object\n",
    "Connection = connect('db_name', 'user_name', 'pswd')\n",
    "\n",
    "#create a cursor object\n",
    "cursor = connection.cursor()\n",
    "\n",
    "#Run Queries\n",
    "cursor.execute('select * from mytable')\n",
    "results = cursor.fetchall()\n",
    "\n",
    "#free resources\n",
    "cursor.close()\n",
    "connection.close()"
   ]
  },
  {
   "cell_type": "markdown",
   "metadata": {},
   "source": [
    "using ```ibm_db api```\n"
   ]
  },
  {
   "cell_type": "code",
   "execution_count": null,
   "metadata": {},
   "outputs": [],
   "source": [
    "dsn = (\n",
    "    \"Driver = {{IBM DB2 ODBC DRIVER}};\"\n",
    "    \"DataBase = {0};\"\n",
    "    \"HOSTNAME = {1};\"\n",
    "    \"PORT = {2};\"\n",
    "    \"PROTOCOL=TCPIP;\"\n",
    "    \"UID={3};\"\n",
    "    \"PWD = {4};\").format(dsn_database,\n",
    "                         dsn_hostname, dsn_port,\n",
    "                         dsn_uid, dsn_pwd)\n",
    "\n",
    "try:\n",
    "    conn = ibm_db.connect(dsn, \"\", \"\")\n",
    "    print(\"Connected!!\")\n",
    "except:\n",
    "    print(\"Failed to connect\")\n",
    "\n",
    "    \n",
    "ibm_dbm.close(conn)"
   ]
  }
 ],
 "metadata": {
  "kernelspec": {
   "display_name": "Python 3",
   "language": "python",
   "name": "python3"
  },
  "language_info": {
   "codemirror_mode": {
    "name": "ipython",
    "version": 3
   },
   "file_extension": ".py",
   "mimetype": "text/x-python",
   "name": "python",
   "nbconvert_exporter": "python",
   "pygments_lexer": "ipython3",
   "version": "3.7.3"
  }
 },
 "nbformat": 4,
 "nbformat_minor": 4
}
