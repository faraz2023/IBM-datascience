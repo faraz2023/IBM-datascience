{
 "cells": [
  {
   "cell_type": "markdown",
   "metadata": {},
   "source": [
    "Prelimenary-Connection to IBM db2 warehouse"
   ]
  },
  {
   "cell_type": "code",
   "execution_count": 1,
   "metadata": {},
   "outputs": [
    {
     "name": "stdout",
     "output_type": "stream",
     "text": [
      "DRIVER={IBM DB2 ODBC DRIVER};DATABASE=BLUDB;HOSTNAME=dashdb-txn-sbox-yp-dal09-03.services.dal.bluemix.net;PORT=50000;PROTOCOL=TCPIP;UID=jxw93669;PWD=gltnrj1459-frtx9;\n",
      "Connected to database:  BLUDB as user:  jxw93669 on host:  dashdb-txn-sbox-yp-dal09-03.services.dal.bluemix.net\n"
     ]
    }
   ],
   "source": [
    "import ibm_db\n",
    "\n",
    "\n",
    "#Replace the placeholder values with your actual Db2 hostname, username, and password:\n",
    "dsn_hostname = \"dashdb-txn-sbox-yp-dal09-03.services.dal.bluemix.net\" # e.g.: \"dashdb-txn-sbox-yp-dal09-04.services.dal.bluemix.net\"\n",
    "dsn_uid = \"jxw93669\"        # e.g. \"abc12345\"\n",
    "dsn_pwd = \"gltnrj1459-frtx9\"      # e.g. \"7dBZ3wWt9XN6$o0J\"\n",
    "\n",
    "dsn_driver = \"{IBM DB2 ODBC DRIVER}\"\n",
    "dsn_database = \"BLUDB\"            # e.g. \"BLUDB\"\n",
    "dsn_port = \"50000\"                # e.g. \"50000\" \n",
    "dsn_protocol = \"TCPIP\"            # i.e. \"TCPIP\"\n",
    "\n",
    "#DO NOT MODIFY THIS CELL. Just RUN it with Shift + Enter\n",
    "#Create the dsn connection string\n",
    "dsn = (\n",
    "    \"DRIVER={0};\"\n",
    "    \"DATABASE={1};\"\n",
    "    \"HOSTNAME={2};\"\n",
    "    \"PORT={3};\"\n",
    "    \"PROTOCOL={4};\"\n",
    "    \"UID={5};\"\n",
    "    \"PWD={6};\").format(dsn_driver, dsn_database, dsn_hostname, dsn_port, dsn_protocol, dsn_uid, dsn_pwd)\n",
    "\n",
    "#print the connection string to check correct values are specified\n",
    "print(dsn)\n",
    "\n",
    "#DO NOT MODIFY THIS CELL. Just RUN it with Shift + Enter\n",
    "#Create database connection\n",
    "\n",
    "try:\n",
    "    conn = ibm_db.connect(dsn, \"\", \"\")\n",
    "    print (\"Connected to database: \", dsn_database, \"as user: \", dsn_uid, \"on host: \", dsn_hostname)\n",
    "\n",
    "except:\n",
    "    print (\"Unable to connect: \", ibm_db.conn_errormsg() )"
   ]
  },
  {
   "cell_type": "markdown",
   "metadata": {},
   "source": [
    "using ```ibm_db.exec_immediate()```\n",
    "\n",
    "parameters of the function: \n",
    "\n",
    "    - Connection\n",
    "    - Statment\n",
    "    - Options"
   ]
  },
  {
   "cell_type": "code",
   "execution_count": 22,
   "metadata": {},
   "outputs": [
    {
     "name": "stdout",
     "output_type": "stream",
     "text": [
      "success\n"
     ]
    }
   ],
   "source": [
    "dropStmt = ibm_db.exec_immediate(conn, \"drop table Trucks\")\n",
    "\n",
    "stmt = ibm_db.exec_immediate(conn, \n",
    "    \"CREATE TABLE Trucks(\\\n",
    "        serial_no varchar(20) PRIMARY KEY NOT NULL,\\\n",
    "        model VARCHAR(20) NOT NULL,\\\n",
    "        manufacturer VARCHAR(20) NOT NULL,\\\n",
    "        Engine_size VARCHAR(20) NOT NULL,\\\n",
    "        Truck_class VARCHAR(20) NOT NULL)\"\n",
    "                            )\n",
    "print(\"success\")"
   ]
  },
  {
   "cell_type": "code",
   "execution_count": 24,
   "metadata": {},
   "outputs": [
    {
     "ename": "Exception",
     "evalue": "[IBM][CLI Driver][DB2/LINUXX8664] SQL0803N  One or more values in the INSERT statement, UPDATE statement, or foreign key update caused by a DELETE statement are not valid because the primary key, unique constraint or unique index identified by \"1\" constrains table \"JXW93669.TRUCKS\" from having duplicate values for the index key.  SQLSTATE=23505\r SQLCODE=-803",
     "output_type": "error",
     "traceback": [
      "\u001b[1;31m---------------------------------------------------------------------------\u001b[0m",
      "\u001b[1;31mException\u001b[0m                                 Traceback (most recent call last)",
      "\u001b[1;32m<ipython-input-24-2c6dc0ccc1f6>\u001b[0m in \u001b[0;36m<module>\u001b[1;34m\u001b[0m\n\u001b[0;32m      2\u001b[0m \u001b[0mVALUES\u001b[0m\u001b[1;33m(\u001b[0m\u001b[1;34m'AZ234'\u001b[0m\u001b[1;33m,\u001b[0m \u001b[1;34m'Benz'\u001b[0m\u001b[1;33m,\u001b[0m \u001b[1;34m'BMW'\u001b[0m\u001b[1;33m,\u001b[0m \u001b[1;34m'Big'\u001b[0m\u001b[1;33m,\u001b[0m \u001b[1;34m'Small'\u001b[0m\u001b[1;33m)\u001b[0m\u001b[1;33m;\u001b[0m\u001b[0;31m\"\u001b[0m\u001b[1;33m\u001b[0m\u001b[1;33m\u001b[0m\u001b[0m\n\u001b[0;32m      3\u001b[0m \u001b[1;33m\u001b[0m\u001b[0m\n\u001b[1;32m----> 4\u001b[1;33m \u001b[0mstmt\u001b[0m \u001b[1;33m=\u001b[0m \u001b[0mibm_db\u001b[0m\u001b[1;33m.\u001b[0m\u001b[0mexec_immediate\u001b[0m\u001b[1;33m(\u001b[0m\u001b[0mconn\u001b[0m\u001b[1;33m,\u001b[0m \u001b[0mInsertStmt\u001b[0m\u001b[1;33m)\u001b[0m\u001b[1;33m\u001b[0m\u001b[1;33m\u001b[0m\u001b[0m\n\u001b[0m\u001b[0;32m      5\u001b[0m \u001b[1;33m\u001b[0m\u001b[0m\n\u001b[0;32m      6\u001b[0m \u001b[1;33m\u001b[0m\u001b[0m\n",
      "\u001b[1;31mException\u001b[0m: [IBM][CLI Driver][DB2/LINUXX8664] SQL0803N  One or more values in the INSERT statement, UPDATE statement, or foreign key update caused by a DELETE statement are not valid because the primary key, unique constraint or unique index identified by \"1\" constrains table \"JXW93669.TRUCKS\" from having duplicate values for the index key.  SQLSTATE=23505\r SQLCODE=-803"
     ]
    }
   ],
   "source": [
    "InsertStmt = \"INSERT INTO TRUCKS(serial_no, model, manufacturer, Engine_size, Truck_class)\\\n",
    "VALUES('AZ234', 'Benz', 'BMW', 'Big', 'Small');\"\n",
    "\n",
    "stmt = ibm_db.exec_immediate(conn, InsertStmt)\n",
    "\n",
    "\n",
    "InserStmt2 = \"INSERT INTO TRUCKS\\\n",
    "VALUES('BZ234', 'Volvo', 'BMW', 'Medium', 'Small');\"\n"
   ]
  },
  {
   "cell_type": "code",
   "execution_count": 28,
   "metadata": {},
   "outputs": [],
   "source": [
    "InsertStmt2 = \"INSERT INTO TRUCKS(serial_no, model, manufacturer, Engine_size, Truck_class)\\\n",
    "VALUES ('BZ234', 'Volvo', 'BMW', 'Medium', 'Small');\"\n",
    "\n",
    "stmt = ibm_db.exec_immediate(conn, InsertStmt2)"
   ]
  },
  {
   "cell_type": "markdown",
   "metadata": {},
   "source": [
    "To see more in details look at Week3Lab2 NoteBook"
   ]
  },
  {
   "cell_type": "code",
   "execution_count": null,
   "metadata": {},
   "outputs": [],
   "source": []
  }
 ],
 "metadata": {
  "kernelspec": {
   "display_name": "Python 3",
   "language": "python",
   "name": "python3"
  },
  "language_info": {
   "codemirror_mode": {
    "name": "ipython",
    "version": 3
   },
   "file_extension": ".py",
   "mimetype": "text/x-python",
   "name": "python",
   "nbconvert_exporter": "python",
   "pygments_lexer": "ipython3",
   "version": "3.7.3"
  }
 },
 "nbformat": 4,
 "nbformat_minor": 4
}
